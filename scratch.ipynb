{
 "cells": [
  {
   "cell_type": "code",
   "execution_count": 36,
   "metadata": {},
   "outputs": [],
   "source": [
    "import os\n",
    "from dotenv import load_dotenv\n",
    "from newsletter.utils import gmail_service\n",
    "from base64 import urlsafe_b64decode\n",
    "from bs4 import BeautifulSoup\n",
    "import requests"
   ]
  },
  {
   "cell_type": "code",
   "execution_count": 2,
   "metadata": {},
   "outputs": [],
   "source": [
    "load_dotenv()\n",
    "creds_file = os.environ[\"NEWSLETTER_CREDS_FILE\"]\n",
    "token_file = os.environ[\"NEWSLETTER_TOKEN_FILE\"]\n",
    "SCOPES = [\"https://www.googleapis.com/auth/gmail.readonly\"]"
   ]
  },
  {
   "cell_type": "code",
   "execution_count": 3,
   "metadata": {},
   "outputs": [],
   "source": [
    "gmail = gmail_service(SCOPES, creds_file, token_file)"
   ]
  },
  {
   "cell_type": "code",
   "execution_count": 22,
   "metadata": {},
   "outputs": [],
   "source": [
    "medium_id = \"17b63e5c9c10d741\"\n",
    "crunchbase_id = \"17b63b1c953802a4\"\n",
    "deeplearning_id = \"17b5ae423b5dff18\""
   ]
  },
  {
   "cell_type": "code",
   "execution_count": 24,
   "metadata": {},
   "outputs": [],
   "source": [
    "dlmsg = gmail.users().messages().get(userId=\"me\", id=deeplearning_id).execute()"
   ]
  },
  {
   "cell_type": "code",
   "execution_count": 5,
   "metadata": {},
   "outputs": [],
   "source": [
    "medium_msg = gmail.users().messages().get(userId=\"me\", id=medium_id).execute()\n",
    "crunchbase_msg = gmail.users().messages().get(userId=\"me\", id=crunchbase_id).execute()\n"
   ]
  },
  {
   "cell_type": "code",
   "execution_count": 49,
   "metadata": {},
   "outputs": [
    {
     "data": {
      "text/plain": [
       "dict_keys(['id', 'threadId', 'labelIds', 'snippet', 'payload', 'sizeEstimate', 'historyId', 'internalDate'])"
      ]
     },
     "execution_count": 49,
     "metadata": {},
     "output_type": "execute_result"
    }
   ],
   "source": [
    "dlmsg.keys()"
   ]
  },
  {
   "cell_type": "code",
   "execution_count": 50,
   "metadata": {},
   "outputs": [
    {
     "data": {
      "text/plain": [
       "'Dear friends, Say you&#39;ve trained a learning algorithm and found that it works well on many examples but performs poorly on a particular subset, or slice, of the data. What can you do? View in'"
      ]
     },
     "execution_count": 50,
     "metadata": {},
     "output_type": "execute_result"
    }
   ],
   "source": [
    "dlmsg[\"snippet\"]"
   ]
  },
  {
   "cell_type": "code",
   "execution_count": 51,
   "metadata": {},
   "outputs": [
    {
     "data": {
      "text/plain": [
       "dict_keys(['partId', 'mimeType', 'filename', 'headers', 'body', 'parts'])"
      ]
     },
     "execution_count": 51,
     "metadata": {},
     "output_type": "execute_result"
    }
   ],
   "source": [
    "dlmsg[\"payload\"].keys()"
   ]
  },
  {
   "cell_type": "code",
   "execution_count": 55,
   "metadata": {},
   "outputs": [
    {
     "data": {
      "text/plain": [
       "28"
      ]
     },
     "execution_count": 55,
     "metadata": {},
     "output_type": "execute_result"
    }
   ],
   "source": [
    "len(dlmsg[\"payload\"][\"headers\"])"
   ]
  },
  {
   "cell_type": "code",
   "execution_count": 62,
   "metadata": {},
   "outputs": [
    {
     "name": "stdout",
     "output_type": "stream",
     "text": [
      "0 Delivered-To\n",
      "1 Received\n",
      "2 X-Google-Smtp-Source\n",
      "3 X-Received\n",
      "4 ARC-Seal\n",
      "5 ARC-Message-Signature\n",
      "6 ARC-Authentication-Results\n",
      "7 Return-Path\n",
      "8 Received\n",
      "9 Received-SPF\n",
      "10 Authentication-Results\n",
      "11 Received\n",
      "12 DKIM-Signature\n",
      "13 DKIM-Signature\n",
      "14 Return-Path\n",
      "15 X-HS-Cid\n",
      "16 List-Unsubscribe\n",
      "17 Date\n",
      "18 From\n",
      "19 Reply-To\n",
      "20 To\n",
      "21 Message-ID\n",
      "22 Subject\n",
      "23 MIME-Version\n",
      "24 Content-Type\n",
      "25 Precedence\n",
      "26 X-Report-Abuse-To\n",
      "27 Feedback-ID\n"
     ]
    }
   ],
   "source": [
    "for idx, header in enumerate(dlmsg[\"payload\"][\"headers\"]):\n",
    "    print(idx, header[\"name\"])"
   ]
  },
  {
   "cell_type": "code",
   "execution_count": 63,
   "metadata": {},
   "outputs": [
    {
     "data": {
      "text/plain": [
       "{'name': 'Subject',\n",
       " 'value': \"The Batch: Apple Weakens Privacy, AI's Invention Wins A Patent, Deere All-In For Robot Tractors, Atari-Playing Algo Learns New Trick\"}"
      ]
     },
     "execution_count": 63,
     "metadata": {},
     "output_type": "execute_result"
    }
   ],
   "source": [
    "dlmsg[\"payload\"][\"headers\"][22]"
   ]
  },
  {
   "cell_type": "code",
   "execution_count": 64,
   "metadata": {},
   "outputs": [
    {
     "data": {
      "text/plain": [
       "{'name': 'From', 'value': '\"DeepLearning.AI\" <thebatch@deeplearning.ai>'}"
      ]
     },
     "execution_count": 64,
     "metadata": {},
     "output_type": "execute_result"
    }
   ],
   "source": [
    "dlmsg[\"payload\"][\"headers\"][18]"
   ]
  },
  {
   "cell_type": "code",
   "execution_count": null,
   "metadata": {},
   "outputs": [],
   "source": []
  },
  {
   "cell_type": "code",
   "execution_count": null,
   "metadata": {},
   "outputs": [],
   "source": []
  },
  {
   "cell_type": "code",
   "execution_count": null,
   "metadata": {},
   "outputs": [],
   "source": []
  },
  {
   "cell_type": "code",
   "execution_count": null,
   "metadata": {},
   "outputs": [],
   "source": []
  },
  {
   "cell_type": "code",
   "execution_count": null,
   "metadata": {},
   "outputs": [],
   "source": []
  },
  {
   "cell_type": "code",
   "execution_count": 26,
   "metadata": {},
   "outputs": [],
   "source": [
    "dl_html = urlsafe_b64decode(dlmsg[\"payload\"][\"parts\"][1][\"body\"][\"data\"]).decode(\"utf-8\")"
   ]
  },
  {
   "cell_type": "code",
   "execution_count": 27,
   "metadata": {},
   "outputs": [],
   "source": [
    "with open(\"deeplearning.html\", \"wt\") as f:\n",
    "    print(dl_html, file=f)"
   ]
  },
  {
   "cell_type": "code",
   "execution_count": 29,
   "metadata": {},
   "outputs": [],
   "source": [
    "soup = BeautifulSoup(dl_html, \"html.parser\")"
   ]
  },
  {
   "cell_type": "code",
   "execution_count": 33,
   "metadata": {},
   "outputs": [],
   "source": [
    "links = set()\n",
    "for atag in soup.find_all(\"a\"):\n",
    "    links.add(atag[\"href\"])"
   ]
  },
  {
   "cell_type": "code",
   "execution_count": 35,
   "metadata": {},
   "outputs": [],
   "source": [
    "with open(\"dl_links.txt\", \"wt\") as f:\n",
    "    for link in links:\n",
    "        print(link, file=f)"
   ]
  },
  {
   "cell_type": "code",
   "execution_count": 38,
   "metadata": {},
   "outputs": [],
   "source": [
    "links = list(links)"
   ]
  },
  {
   "cell_type": "code",
   "execution_count": 39,
   "metadata": {},
   "outputs": [],
   "source": [
    "resp = requests.get(links[0])"
   ]
  },
  {
   "cell_type": "code",
   "execution_count": 43,
   "metadata": {},
   "outputs": [],
   "source": [
    "s = BeautifulSoup(resp.text, \"html.parser\")"
   ]
  },
  {
   "cell_type": "code",
   "execution_count": 44,
   "metadata": {},
   "outputs": [],
   "source": [
    "s.title"
   ]
  },
  {
   "cell_type": "code",
   "execution_count": 47,
   "metadata": {},
   "outputs": [
    {
     "data": {
      "text/plain": [
       "<head>\n",
       "<meta content=\"never\" name=\"referrer\"/>\n",
       "<script>\n",
       "function toS() {\n",
       "  var num = 0;\n",
       "  var reg = /./;\n",
       "  reg.toString = function() {\n",
       "    num++;\n",
       "    return 'toS';\n",
       "  }\n",
       "  console.debug(reg);\n",
       "  if (num > 1) {\n",
       "    return 'b';\n",
       "  }\n",
       "  return 'p';\n",
       "}\n",
       "\n",
       "function driver() {\n",
       "  if (navigator.webdriver) {\n",
       "    return 'b';\n",
       "  }\n",
       "  return 'p';\n",
       "}\n",
       "\n",
       "function lang() {\n",
       "  return navigator.languages;\n",
       "}\n",
       "\n",
       "function plugins() {\n",
       "  return navigator.plugins.length;\n",
       "}\n",
       "\n",
       "function perm2() {\n",
       "  var permissions = window.navigator.permissions;\n",
       "  if (permissions.query.toString() !== 'function query() { [native code] }') {\n",
       "    return 'b'\n",
       "  }\n",
       "  if (permissions.query.toString.toString() !== 'function toString() { [native code] }') {\n",
       "    return 'b';\n",
       "  }\n",
       "  if (permissions.query.toString.hasOwnProperty('[[Handler]]')\n",
       "      && permissions.query.toString.hasOwnProperty('[[Target]]')\n",
       "      && permissions.query.toString.hasOwnProperty('[[IsRevoked]]')) {\n",
       "    return 'b';\n",
       "  }\n",
       "  if (permissions.hasOwnProperty('query')) {\n",
       "    return 'b';\n",
       "  }\n",
       "  return 'p';\n",
       "}\n",
       "\n",
       "function chrome() {\n",
       "  if (!window.chrome) {\n",
       "    return 'b';\n",
       "  }\n",
       "  return 'p';\n",
       "}\n",
       "\n",
       "if (/Edge/.test(window.navigator.userAgent)) {\n",
       "  window.location.replace(\"https://info.deeplearning.ai/events/public/v1/encoded/track/tc/LX+113/cJhC404/VVqS_F4SV0vnW8dZPVh2mtXLzW2lg-cV4wp1CTN5wYXQr5nCTJV3Zsc37CgMC5Vr1FrW3y59RyV5G8g0894NHbW5QP2lb2Ssdq1W7-BFMP14bt73W8tl4kn1j-CJ-W88v4--924vL7N5Z003kGVtz8W9fTh1S7nZZf7W2lv_w96khjL1W1KyjPy2tgJ1_VsDXs4517GfHW2gKBtX4t3cKKW554RTW1fxl8qW5KGHQ_4xwpqLW5SGWp76tRslQW8XVWFq6bBThtVMrF_k1-GPZ_W2pjy5v678YsDW3kjNX96b6qJMW8VmtQc2PtRrNW6c-5Kf5tyNn5W3P86_25bk7jvN2ZB8Xj_FT0pW5Tn-vg6g6DZ5W4S76Nv7Q8gqnW1CVw-Z8ZlLWVW57dqQW1T7XVhW4DgwZw4yjYDTW1s06gS1VrtjHVSF0Rn3pP1TVW3VLf7Z8s63JfW18kb2Y7pMwG1352Q1?_ud=5c5e611c-2956-4178-bfde-177be3de991e\");\n",
       "} else if (/Android/.test(window.navigator.userAgent)) {\n",
       "  document.location = \"https://info.deeplearning.ai/events/public/v1/encoded/track/tc/LX+113/cJhC404/VVqS_F4SV0vnW8dZPVh2mtXLzW2lg-cV4wp1CTN5wYXQr5nCTJV3Zsc37CgMC5Vr1FrW3y59RyV5G8g0894NHbW5QP2lb2Ssdq1W7-BFMP14bt73W8tl4kn1j-CJ-W88v4--924vL7N5Z003kGVtz8W9fTh1S7nZZf7W2lv_w96khjL1W1KyjPy2tgJ1_VsDXs4517GfHW2gKBtX4t3cKKW554RTW1fxl8qW5KGHQ_4xwpqLW5SGWp76tRslQW8XVWFq6bBThtVMrF_k1-GPZ_W2pjy5v678YsDW3kjNX96b6qJMW8VmtQc2PtRrNW6c-5Kf5tyNn5W3P86_25bk7jvN2ZB8Xj_FT0pW5Tn-vg6g6DZ5W4S76Nv7Q8gqnW1CVw-Z8ZlLWVW57dqQW1T7XVhW4DgwZw4yjYDTW1s06gS1VrtjHVSF0Rn3pP1TVW3VLf7Z8s63JfW18kb2Y7pMwG1352Q1?_ud=5c5e611c-2956-4178-bfde-177be3de991e\";\n",
       "} else if (/Chrome/.test(window.navigator.userAgent)) {\n",
       "  var link = \"https://info.deeplearning.ai/events/public/v1/encoded/track/tc/LX+113/cJhC404/VVqS_F4SV0vnW8dZPVh2mtXLzW2lg-cV4wp1CTN5wYXQr5nCTJV3Zsc37CgMC5Vr1FrW3y59RyV5G8g0894NHbW5QP2lb2Ssdq1W7-BFMP14bt73W8tl4kn1j-CJ-W88v4--924vL7N5Z003kGVtz8W9fTh1S7nZZf7W2lv_w96khjL1W1KyjPy2tgJ1_VsDXs4517GfHW2gKBtX4t3cKKW554RTW1fxl8qW5KGHQ_4xwpqLW5SGWp76tRslQW8XVWFq6bBThtVMrF_k1-GPZ_W2pjy5v678YsDW3kjNX96b6qJMW8VmtQc2PtRrNW6c-5Kf5tyNn5W3P86_25bk7jvN2ZB8Xj_FT0pW5Tn-vg6g6DZ5W4S76Nv7Q8gqnW1CVw-Z8ZlLWVW57dqQW1T7XVhW4DgwZw4yjYDTW1s06gS1VrtjHVSF0Rn3pP1TVW3VLf7Z8s63JfW18kb2Y7pMwG1352Q1?_ud=5c5e611c-2956-4178-bfde-177be3de991e&_ch=\" + chrome() + \"&_pr2=\" + perm2() + \"&_pl=\" + plugins() +  \"&_lg=\" + lang() + \"&_dr=\" + driver() + \"&_ts=\" + toS();\n",
       "  window.location.replace(link);\n",
       "} else {\n",
       "  window.location.replace(\"https://info.deeplearning.ai/events/public/v1/encoded/track/tc/LX+113/cJhC404/VVqS_F4SV0vnW8dZPVh2mtXLzW2lg-cV4wp1CTN5wYXQr5nCTJV3Zsc37CgMC5Vr1FrW3y59RyV5G8g0894NHbW5QP2lb2Ssdq1W7-BFMP14bt73W8tl4kn1j-CJ-W88v4--924vL7N5Z003kGVtz8W9fTh1S7nZZf7W2lv_w96khjL1W1KyjPy2tgJ1_VsDXs4517GfHW2gKBtX4t3cKKW554RTW1fxl8qW5KGHQ_4xwpqLW5SGWp76tRslQW8XVWFq6bBThtVMrF_k1-GPZ_W2pjy5v678YsDW3kjNX96b6qJMW8VmtQc2PtRrNW6c-5Kf5tyNn5W3P86_25bk7jvN2ZB8Xj_FT0pW5Tn-vg6g6DZ5W4S76Nv7Q8gqnW1CVw-Z8ZlLWVW57dqQW1T7XVhW4DgwZw4yjYDTW1s06gS1VrtjHVSF0Rn3pP1TVW3VLf7Z8s63JfW18kb2Y7pMwG1352Q1?_ud=5c5e611c-2956-4178-bfde-177be3de991e\");\n",
       "}\n",
       "</script>\n",
       "<meta charset=\"utf-8\"/>\n",
       "<style>\n",
       "@font-face {\n",
       "font-family: \"Avenir Next W02\";\n",
       "src: url(./fonts/7a1b7ae7-5c29-481f-83ac-652e932c5509x.eot?#iefix);\n",
       "src: url(./fonts/7a1b7ae7-5c29-481f-83ac-652e932c5509x.eot?#iefix) format(\"eot\"), url(./fonts/bb590848-4012-46d6-a8d5-48c9893a176bx.woff2) format(\"woff2\"), url(./fonts/3a42a252-67ff-4186-88cf-762f56719ca1x.woff) format(\"woff\"), url(./fonts/dbc39ae3-2636-4653-a23e-8938bce2cf51x.ttf) format(\"truetype\"), url(./fonts/8e46b6cb-85f2-4400-a9d8-7cbd8ed30dd8x.svg#8e46b6cb-85f2-4400-a9d8-7cbd8ed30dd8) format(\"svg\");\n",
       "font-weight: 400;\n",
       "font-style: normal; }\n",
       "@font-face {\n",
       "font-family: \"Avenir Next W02\";\n",
       "src: url(./fonts/f2c1017b-8f5f-4e69-8a34-3788975c6e84x.eot?#iefix);\n",
       "src: url(./fonts/f2c1017b-8f5f-4e69-8a34-3788975c6e84x.eot?#iefix) format(\"eot\"), url(./fonts/7195d5d0-582f-42d4-86ca-9da8dc31146ex.woff2) format(\"woff2\"), url(./fonts/0417e965-6ae1-4395-8f71-f61ea767d523x.woff) format(\"woff\"), url(./fonts/eb8735e1-059f-4b58-b708-78ede4e39742x.ttf) format(\"truetype\"), url(./fonts/9eaa4170-3804-4e8d-a010-4d1f191948a4x.svg#9eaa4170-3804-4e8d-a010-4d1f191948a4) format(\"svg\");\n",
       "font-weight: 500;\n",
       "font-style: normal; }\n",
       "@font-face {\n",
       "font-family: \"Avenir Next W02\";\n",
       "src: url(./fonts/51d861aa-f9b4-4afb-a019-d7d155c21072x.eot?#iefix);\n",
       "src: url(./fonts/51d861aa-f9b4-4afb-a019-d7d155c21072x.eot?#iefix) format(\"eot\"), url(./fonts/b729a5ee-0221-40db-9a76-7b9e9b747f65x.woff2) format(\"woff2\"), url(./fonts/51a56502-44d2-4d70-808f-fc822da45209x.woff) format(\"woff\"), url(./fonts/11eb4d83-a3b4-4ab8-a47c-ef9173d239fcx.ttf) format(\"truetype\"), url(./fonts/7258c0e3-4850-4db8-b45f-a8f81d1bf6bax.svg#7258c0e3-4850-4db8-b45f-a8f81d1bf6ba) format(\"svg\");\n",
       "font-weight: 700;\n",
       "font-style: normal; }\n",
       "body {\n",
       "font-family: \"Avenir Next\", \"Avenir Next W02\", Helvetica, Arial, sans-serif;\n",
       "font-weight: 400;\n",
       "font-size: 14px;\n",
       "font-size: 0.875rem;\n",
       "color: #33475b;\n",
       "line-height: 1.5rem;\n",
       "margin-top: 50px; }\n",
       "h4 {\n",
       "font-family: \"Avenir Next\", \"Avenir Next W02\", Helvetica, Arial, sans-serif;\n",
       "font-weight: 700;\n",
       "-webkit-font-smoothing: antialiased;\n",
       "-moz-osx-font-smoothing: grayscale;\n",
       "font-smoothing: antialiased;\n",
       "text-shadow: 0 0 1px transparent;\n",
       "margin-bottom: 1.25rem;\n",
       "margin-top: 0;\n",
       "display: block;\n",
       "font-size: 1.25rem ;\n",
       "line-height: normal;\n",
       "text-transform: none; }\n",
       "a {\n",
       "font-family: \"Avenir Next\", \"Avenir Next W02\", Helvetica, Arial, sans-serif;\n",
       "font-weight: 500;\n",
       "-webkit-font-smoothing: antialiased;\n",
       "-moz-osx-font-smoothing: grayscale;\n",
       "font-smoothing: antialiased;\n",
       "text-shadow: 0 0 1px transparent;\n",
       "transition: all 150ms ease-out;\n",
       "color: #0091ae;\n",
       "text-decoration: none; }\n",
       "a:hover {\n",
       "color: #007a8c;\n",
       "text-decoration: underline; }\n",
       "a:active {\n",
       "color: #7fd1de; }\n",
       "a.private-link--underlined {\n",
       "text-decoration: underline; }\n",
       "a.private-link--hover {\n",
       "font-family: \"Avenir Next\", \"Avenir Next W02\", Helvetica, Arial, sans-serif;\n",
       "font-weight: 500;\n",
       "-webkit-font-smoothing: antialiased;\n",
       "-moz-osx-font-smoothing: grayscale;\n",
       "font-smoothing: antialiased;\n",
       "text-shadow: 0 0 1px transparent;\n",
       "transition: all 150ms ease-out;\n",
       "color: #007a8c;\n",
       "text-decoration: none;\n",
       "text-decoration: underline; }\n",
       "a.private-link--hover:hover {\n",
       "color: #007a8c;\n",
       "text-decoration: underline; }\n",
       "a.private-link--hover:active {\n",
       "color: #7fd1de; }\n",
       ".private-link {\n",
       "font-family: \"Avenir Next\", \"Avenir Next W02\", Helvetica, Arial, sans-serif;\n",
       "font-weight: 500;\n",
       "-webkit-font-smoothing: antialiased;\n",
       "-moz-osx-font-smoothing: grayscale;\n",
       "font-smoothing: antialiased;\n",
       "text-shadow: 0 0 1px transparent;\n",
       "transition: all 150ms ease-out;\n",
       "color: #0091ae;\n",
       "text-decoration: none;\n",
       "cursor: pointer; }\n",
       ".private-link:hover {\n",
       "color: #007a8c;\n",
       "text-decoration: underline; }\n",
       ".private-link:active {\n",
       "color: #7fd1de; }\n",
       "@keyframes loading{0%{transform:translateY(0)}25%{background-color:#cbd6e2;transform:translateY(.25em)}50%{transform:translateY(0)}75%{background-color:#cbd6e2;transform:translateY(-.25em)}to{transform:translateY(0)}}@-webkit-keyframes loading{0%{transform:translateY(0)}25%{background-color:#cbd6e2;transform:translateY(.25em)}50%{transform:translateY(0)}75%{background-color:#cbd6e2;transform:translateY(-.25em)}to{transform:translateY(0)}}.uiLoading{-webkit-align-items:center;align-items:center;display:-ms-flexbox;display:-webkit-flex;display:flex;-webkit-justify-content:center;justify-content:center;height:1.25em;width:4.5em}.uiLoading-grow{height:100%;width:100%}.uiLoadingDot{-webkit-animation:loading 1s infinite linear;animation:loading 1s infinite linear;background-color:currentColor;border-radius:50%;color:#7c98b6;height:1em;width:1em}.uiLoadingDot.dot-1{-webkit-animation-delay:0s;animation-delay:0s;margin-right:.75em}.uiLoadingDot.dot-2{-webkit-animation-delay:-.66s;animation-delay:-.66s;margin-right:.75em}.uiLoadingDot.dot-3{-webkit-animation-delay:-.33s;animation-delay:-.33s}.uiLoadingDot.loading-blue{color:#00a4bd}.uiLoadingDot.loading-orange{color:#e66e50}\n",
       "\n",
       "</style>\n",
       "</head>"
      ]
     },
     "execution_count": 47,
     "metadata": {},
     "output_type": "execute_result"
    }
   ],
   "source": [
    "s.head"
   ]
  },
  {
   "cell_type": "code",
   "execution_count": 7,
   "metadata": {},
   "outputs": [],
   "source": [
    "cb_payload = crunchbase_msg[\"payload\"]"
   ]
  },
  {
   "cell_type": "code",
   "execution_count": 9,
   "metadata": {},
   "outputs": [
    {
     "data": {
      "text/plain": [
       "'multipart/alternative'"
      ]
     },
     "execution_count": 9,
     "metadata": {},
     "output_type": "execute_result"
    }
   ],
   "source": [
    "cb_payload[\"mimeType\"]"
   ]
  },
  {
   "cell_type": "code",
   "execution_count": 10,
   "metadata": {},
   "outputs": [
    {
     "data": {
      "text/plain": [
       "0"
      ]
     },
     "execution_count": 10,
     "metadata": {},
     "output_type": "execute_result"
    }
   ],
   "source": [
    "cb_payload[\"body\"][\"size\"]"
   ]
  },
  {
   "cell_type": "code",
   "execution_count": 11,
   "metadata": {},
   "outputs": [
    {
     "data": {
      "text/plain": [
       "2"
      ]
     },
     "execution_count": 11,
     "metadata": {},
     "output_type": "execute_result"
    }
   ],
   "source": [
    "len(cb_payload[\"parts\"])"
   ]
  },
  {
   "cell_type": "code",
   "execution_count": 12,
   "metadata": {},
   "outputs": [],
   "source": [
    "cbp0 = cb_payload[\"parts\"][0]"
   ]
  },
  {
   "cell_type": "code",
   "execution_count": 13,
   "metadata": {},
   "outputs": [
    {
     "data": {
      "text/plain": [
       "'text/plain'"
      ]
     },
     "execution_count": 13,
     "metadata": {},
     "output_type": "execute_result"
    }
   ],
   "source": [
    "cbp0[\"mimeType\"]"
   ]
  },
  {
   "cell_type": "code",
   "execution_count": 14,
   "metadata": {},
   "outputs": [
    {
     "data": {
      "text/plain": [
       "18539"
      ]
     },
     "execution_count": 14,
     "metadata": {},
     "output_type": "execute_result"
    }
   ],
   "source": [
    "cbp0[\"body\"][\"size\"]"
   ]
  },
  {
   "cell_type": "code",
   "execution_count": 15,
   "metadata": {},
   "outputs": [
    {
     "data": {
      "text/plain": [
       "b'Crunchbase Daily \\n\\n\\n <https://www.crunchbase.com/> \\n\\n\\n\\nAugust 20, 2021\\n\\n\\nCleantech funds are scaling up in 2021 \\n<https://news.crunchbase.com/news/cleantech-funds-are-scaling-up-in-2021/?utm_source=cb_daily&utm_medium=email&utm_campaign=20210820&utm_content=intro&utm_term=content>\\n\\nWhether the focus is clean manufacturing, energy efficiency, renewables, \\nsustainable packaging, or a host of other focus areas, the broad bet is that we \\ncan take incremental steps to curtail our carbon-spewing ways. We take a look \\nat the startups and funding in the space.\\n\\nWant more women in startups? Here\\xe2\\x80\\x99s how. \\n<https://news.crunchbase.com/news/want-to-see-more-women-in-the-startup-world-a-female-founder-shares-her-top-4-asks/?utm_source=cb_daily&utm_medium=email&utm_campaign=20210820&utm_content=intro&utm_term=content>\\n\\nSimpliFed <https://www.crunchbase.com/organization/simplifed> founder Andrea \\nIppolito <https://www.crunchbase.com/person/andrea-ippolito-b439> suggests four \\nways the entrepreneurship community can encourage more women in startups. Some \\nmay not prompt answers, but they should engender a redesign within the \\necosystem, she argues.\\n\\nDatabricks eyes $38B valuation, Sport Alliance lands $70M \\n<https://news.crunchbase.com/news/briefing-8-19-21/?utm_source=cb_daily&utm_medium=email&utm_campaign=20210820&utm_content=intro&utm_term=content>\\n\\nCloud data platform Databricks \\n<https://www.crunchbase.com/organization/databricks> is reportedly closing on a \\nnew $1.5 billion funding round at a valuation of around $38 billion. Meanwhile, \\nHamburg-basedSport Alliance \\n<https://www.crunchbase.com/organization/sport-alliance>, a provider of \\nsoftware for gyms and fitness providers, raised 60 million euros ($70 million) \\nfrom private equity firmPSG <https://www.crunchbase.com/organization/psg-86fb>.\\n\\nTop SaaS investors on the key metrics for fundraising \\n<https://news.crunchbase.com/news/how-to-raise-funding-saas-startups-ivp-handbook/?utm_source=cb_daily&utm_medium=email&utm_campaign=20210820&utm_content=intro&utm_term=content>\\n\\nIVP <https://www.crunchbase.com/organization/institutional-venture-partners> \\nknows a thing or two about funding SaaS startups. The 41-year-old firm \\ntypically invests from Series B onward in enterprise and consumer-focused \\ncompanies that have product market fit. It recently closed an $1.8 billion \\nfund\\xe2\\x80\\x94its largest to date\\xe2\\x80\\x94and has already had 10 IPOs out of its portfolio this \\nyear. Here, IVP partnersParsa Saljoughian \\n<https://www.crunchbase.com/person/parsa-saljoughian> and Michael Miao \\n<https://www.crunchbase.com/person/michael-miao> talk about the metrics they \\nlook at most closely when investing in subscription software companies, and how \\nstartup founders should be benchmarking their companies\\xe2\\x80\\x99 numbers.\\n\\nWhy VC investment in cryptosecurity is up 10x this year \\n<https://news.crunchbase.com/news/crypto-security-startups-vc-investment/?utm_source=cb_daily&utm_medium=email&utm_campaign=20210820&utm_content=intro&utm_term=content>\\n\\nCryptosecurity\\xe2\\x80\\x94a sector involving technologies that help secure digital \\nwallets and transactions involving cryptocurrency\\xe2\\x80\\x94has already seen more money \\ninvested in it in 2021 than in all earlier years combined, according Crunchbase \\ndata, as investors eye the massive market for security and compliance features \\nfor cryptocurrencies.\\n\\nCompetitive monitoring: How and why you should track competitors \\n<https://about.crunchbase.com/blog/competitive-analysis/?utm_source=cb_daily&utm_medium=email&utm_campaign=20210820&utm_content=intro&utm_term=content>\\n\\nFrom established industry leaders to up-and-comers, your competition can \\ndirectly affect how you sell, market and operate your business, and even \\ndetermine whether you\\xe2\\x80\\x99re successful. That\\xe2\\x80\\x99s where competitive monitoring comes \\ninto play. In this article, find out which companies you should be tracking and \\nlearn how to effectively monitor and beat your competition.\\n\\nKeep up with the Crunchbase News Briefing \\n<https://news.crunchbase.com/news/briefing-8-20-21/?utm_source=cb_daily&utm_medium=email&utm_campaign=20210820&utm_content=intro&utm_term=content>\\n\\nTo keep up on breaking news throughout the day, check out the Crunchbase News \\nBriefing. This continuously updated daily feature on our main news site has \\nsummaries of notable funding announcements, IPOs, M&A, and other happenings in \\nthe startup world.\\n\\n\\n\\n\\nClose more deals with Crunchbase.\\n Start your free trial of Crunchbase Pro and get 10 free contacts today!  TRY \\nPRO FREE <https://about.crunchbase.com/products/crunchbase-pro/> \\n\\n\\n\\n <http://cm.crunchbase.com/9uv2> Enhance Your Sales Team\\xe2\\x80\\x99s Prospecting \\n<http://cm.crunchbase.com/9uv2> Crunchbase Enterprise is an all-in-one \\nprospecting solution. Download this product overview sheet to learn how to \\nclose more deals without the headache. <http://cm.crunchbase.com/9uv2> Download \\nNow <http://cm.crunchbase.com/9uv2> \\n\\n\\nCrunchbase Pro: Searches and Lists\\n\\n\\nName Type Entries \\nICOs Raising More Than $25M \\n<https://www.crunchbase.com/lists/icos-raising-more-than-25-m/d74c9579-34c5-4013-b167-a45cff2dd5a3/funding_rounds?utm_source=cb_daily&utm_medium=email&utm_campaign=20210820&utm_content=lists&utm_term=other>\\nFunding Rounds 117 \\nEuropean investors that have 5+ exits and investments in gaming \\n<https://www.crunchbase.com/lists/european-investors-that-have-5/3f3fa643-bac5-4425-b6b8-9309c548f44a/investor?new=false&utm_source=cb_daily&utm_medium=email&utm_campaign=20210820&utm_content=lists&utm_term=other>\\nInvestors 311 \\nSelect recently funded beverage startups \\n<https://www.crunchbase.com/lists/select-recently-funded-beverage-startups/8fe9f881-3a97-41c1-a585-331625135dbb/organization.companies?utm_source=cb_daily&utm_medium=email&utm_campaign=20210820&utm_content=lists&utm_term=other>\\nCompanies 46 \\nMore Featured Searches and Lists \\n<https://www.crunchbase.com/featured?utm_source=cb_daily&utm_medium=email&utm_campaign=20210820&utm_content=lists&utm_term=more_link>\\nCheck out our Crunchbase solutions here \\n<https://www.crunchbase.com/buy/select-product> \\xe2\\x80\\x93 prospecting tools made for \\neveryone \\n\\n\\nRecent Investments\\n\\n\\n \\n<https://www.crunchbase.com/organization/apeel-sciences?utm_source=cb_daily&utm_medium=email&utm_campaign=20210820&utm_content=funding_rounds&utm_term=featured>\\nApeel Sciences \\n<https://www.crunchbase.com/organization/apeel-sciences?utm_source=cb_daily&utm_medium=email&utm_campaign=20210820&utm_content=funding_rounds&utm_term=featured>\\n\\n$250M \\n<https://www.crunchbase.com/organization/apeel-sciences?utm_source=cb_daily&utm_medium=email&utm_campaign=20210820&utm_content=funding_rounds&utm_term=featured>\\n /Series E \\n<https://www.crunchbase.com/funding_round/apeel-sciences-series-e--0f614dba?utm_source=cb_daily&utm_medium=email&utm_campaign=20210820&utm_content=funding_rounds&utm_term=featured>\\n\\nApeel Sciences develops plant-derived shelf life extension technology for \\nfresh produce that improves quality and reduces food waste. \\n\\nCategories:\\n\\nAgriculture \\xe2\\x80\\xa2 AgTech \\xe2\\x80\\xa2 Biotechnology \\xe2\\x80\\xa2 Waste Management\\n\\n\\nFounders:\\n\\nJames Rogers \\n<https://www.crunchbase.com/person/james-rogers-3?utm_source=cb_daily&utm_medium=email&utm_campaign=20210820&utm_content=funding_rounds&utm_term=founders>\\n\\n\\nInvestors:\\n\\nTemasek Holdings \\n<https://www.crunchbase.com/organization/temasek?utm_source=cb_daily&utm_medium=email&utm_campaign=20210820&utm_content=funding_rounds&utm_term=investors>\\n (Lead),Andreessen Horowitz \\n<https://www.crunchbase.com/organization/andreessen-horowitz?utm_source=cb_daily&utm_medium=email&utm_campaign=20210820&utm_content=funding_rounds&utm_term=investors>\\n,Anne Wojcicki \\n<https://www.crunchbase.com/person/anne-wojcicki?utm_source=cb_daily&utm_medium=email&utm_campaign=20210820&utm_content=funding_rounds&utm_term=investors>\\n+ 12 more \\n<https://www.crunchbase.com/funding_round/apeel-sciences-series-e--0f614dba?utm_source=cb_daily&utm_medium=email&utm_campaign=20210820&utm_content=funding_rounds&utm_term=investors>\\n\\n \\n<https://www.crunchbase.com/organization/mobilecoin?utm_source=cb_daily&utm_medium=email&utm_campaign=20210820&utm_content=funding_rounds&utm_term=featured>\\nMobileCoin \\n<https://www.crunchbase.com/organization/mobilecoin?utm_source=cb_daily&utm_medium=email&utm_campaign=20210820&utm_content=funding_rounds&utm_term=featured>\\n\\n$66M \\n<https://www.crunchbase.com/organization/mobilecoin?utm_source=cb_daily&utm_medium=email&utm_campaign=20210820&utm_content=funding_rounds&utm_term=featured>\\n /Series B \\n<https://www.crunchbase.com/funding_round/mobilecoin-series-b--3056e61b?utm_source=cb_daily&utm_medium=email&utm_campaign=20210820&utm_content=funding_rounds&utm_term=featured>\\n\\nMobileCoin is a cryptocurrency platform that provides anti-fraud services and \\npayment systems for merchants. \\n\\nCategories:\\n\\nCryptocurrency \\xe2\\x80\\xa2 FinTech \\xe2\\x80\\xa2 Mobile \\xe2\\x80\\xa2 Payments\\n\\n\\nFounders:\\n\\nJoshua Goldbard \\n<https://www.crunchbase.com/person/joshua-goldbard?utm_source=cb_daily&utm_medium=email&utm_campaign=20210820&utm_content=funding_rounds&utm_term=founders>\\n\\n\\nInvestors:\\n\\n10X Capital \\n<https://www.crunchbase.com/organization/10x-capital?utm_source=cb_daily&utm_medium=email&utm_campaign=20210820&utm_content=funding_rounds&utm_term=investors>\\n,Agla\\xc3\\xa9 Ventures \\n<https://www.crunchbase.com/organization/aglae-ventures?utm_source=cb_daily&utm_medium=email&utm_campaign=20210820&utm_content=funding_rounds&utm_term=investors>\\n,Alameda Research \\n<https://www.crunchbase.com/organization/alameda-research?utm_source=cb_daily&utm_medium=email&utm_campaign=20210820&utm_content=funding_rounds&utm_term=investors>\\n+ 20 more \\n<https://www.crunchbase.com/funding_round/mobilecoin-series-b--3056e61b?utm_source=cb_daily&utm_medium=email&utm_campaign=20210820&utm_content=funding_rounds&utm_term=investors>\\n\\n \\n<https://www.crunchbase.com/organization/smallcase?utm_source=cb_daily&utm_medium=email&utm_campaign=20210820&utm_content=funding_rounds&utm_term=featured>\\nsmallcase \\n<https://www.crunchbase.com/organization/smallcase?utm_source=cb_daily&utm_medium=email&utm_campaign=20210820&utm_content=funding_rounds&utm_term=featured>\\n\\n$40M \\n<https://www.crunchbase.com/organization/smallcase?utm_source=cb_daily&utm_medium=email&utm_campaign=20210820&utm_content=funding_rounds&utm_term=featured>\\n /Series C \\n<https://www.crunchbase.com/funding_round/smallcase-series-c--16814f7a?utm_source=cb_daily&utm_medium=email&utm_campaign=20210820&utm_content=funding_rounds&utm_term=featured>\\n\\nsmallcase is a wealth management startup that focuses on equitable investing \\nin India. \\n\\nCategories:\\n\\nFinancial Services \\xe2\\x80\\xa2 Stock Exchanges \\xe2\\x80\\xa2 Wealth Management\\n\\n\\nFounders:\\n\\nAnugrah Shrivastava \\n<https://www.crunchbase.com/person/anugrah-shrivastava?utm_source=cb_daily&utm_medium=email&utm_campaign=20210820&utm_content=funding_rounds&utm_term=founders>\\n,Rohan Gupta \\n<https://www.crunchbase.com/person/rohan-gupta-dd5f?utm_source=cb_daily&utm_medium=email&utm_campaign=20210820&utm_content=funding_rounds&utm_term=founders>\\n,Vasanth Kamath \\n<https://www.crunchbase.com/person/vasanth-kamath?utm_source=cb_daily&utm_medium=email&utm_campaign=20210820&utm_content=funding_rounds&utm_term=founders>\\n\\n\\nInvestors:\\n\\nFaering Capital \\n<https://www.crunchbase.com/organization/faering-capital?utm_source=cb_daily&utm_medium=email&utm_campaign=20210820&utm_content=funding_rounds&utm_term=investors>\\n (Lead),Amazon Smbhav Venture Fund \\n<https://www.crunchbase.com/organization/amazon-smbhav-venture-fund?utm_source=cb_daily&utm_medium=email&utm_campaign=20210820&utm_content=funding_rounds&utm_term=investors>\\n,Arkam Ventures \\n<https://www.crunchbase.com/organization/arkam-ventures?utm_source=cb_daily&utm_medium=email&utm_campaign=20210820&utm_content=funding_rounds&utm_term=investors>\\n+ 8 more \\n<https://www.crunchbase.com/funding_round/smallcase-series-c--16814f7a?utm_source=cb_daily&utm_medium=email&utm_campaign=20210820&utm_content=funding_rounds&utm_term=investors>\\n\\nMore Fundings\\n\\nCompany Amount / Round Lead Investor \\nRapid Robotics \\n<https://www.crunchbase.com/organization/rapid-robotics?utm_source=cb_daily&utm_medium=email&utm_campaign=20210820&utm_content=funding_rounds&utm_term=other>\\n$37M /Series B \\n<https://www.crunchbase.com/funding_round/rapid-robotics-series-b--079dbb63?utm_source=cb_daily&utm_medium=email&utm_campaign=20210820&utm_content=funding_rounds&utm_term=other>\\nKleiner Perkins \\n<https://www.crunchbase.com/organization/kleiner-perkins-caufield-byers?utm_source=cb_daily&utm_medium=email&utm_campaign=20210820&utm_content=funding_rounds&utm_term=other>\\nPreset \\n<https://www.crunchbase.com/organization/preset?utm_source=cb_daily&utm_medium=email&utm_campaign=20210820&utm_content=funding_rounds&utm_term=other>\\n$36M /Series B \\n<https://www.crunchbase.com/funding_round/preset-series-b--39ff1c88?utm_source=cb_daily&utm_medium=email&utm_campaign=20210820&utm_content=funding_rounds&utm_term=other>\\nRedpoint \\n<https://www.crunchbase.com/organization/redpoint-ventures?utm_source=cb_daily&utm_medium=email&utm_campaign=20210820&utm_content=funding_rounds&utm_term=other>\\nStacker \\n<https://www.crunchbase.com/organization/stacker-79fe?utm_source=cb_daily&utm_medium=email&utm_campaign=20210820&utm_content=funding_rounds&utm_term=other>\\n$20M /Series A \\n<https://www.crunchbase.com/funding_round/stacker-79fe-series-a--a2428171?utm_source=cb_daily&utm_medium=email&utm_campaign=20210820&utm_content=funding_rounds&utm_term=other>\\nAndreessen Horowitz \\n<https://www.crunchbase.com/organization/andreessen-horowitz?utm_source=cb_daily&utm_medium=email&utm_campaign=20210820&utm_content=funding_rounds&utm_term=other>\\nOpya \\n<https://www.crunchbase.com/organization/optimus-outcome?utm_source=cb_daily&utm_medium=email&utm_campaign=20210820&utm_content=funding_rounds&utm_term=other>\\n$15M /Series A \\n<https://www.crunchbase.com/funding_round/optimus-outcome-series-a--1f18ade1?utm_source=cb_daily&utm_medium=email&utm_campaign=20210820&utm_content=funding_rounds&utm_term=other>\\nPanoramic Ventures \\n<https://www.crunchbase.com/organization/panoramic-ventures?utm_source=cb_daily&utm_medium=email&utm_campaign=20210820&utm_content=funding_rounds&utm_term=other>\\nTrue Balance \\n<https://www.crunchbase.com/organization/true-balance?utm_source=cb_daily&utm_medium=email&utm_campaign=20210820&utm_content=funding_rounds&utm_term=other>\\n1.1B INR /Debt Financing \\n<https://www.crunchbase.com/funding_round/true-balance-debt-financing--ae321281?utm_source=cb_daily&utm_medium=email&utm_campaign=20210820&utm_content=funding_rounds&utm_term=other>\\n- \\nbttn. \\n<https://www.crunchbase.com/organization/bttn?utm_source=cb_daily&utm_medium=email&utm_campaign=20210820&utm_content=funding_rounds&utm_term=other>\\n$5.0M /Seed Round \\n<https://www.crunchbase.com/funding_round/bttn-seed--0d3b8d18?utm_source=cb_daily&utm_medium=email&utm_campaign=20210820&utm_content=funding_rounds&utm_term=other>\\nFUSE \\n<https://www.crunchbase.com/organization/fuse-vc?utm_source=cb_daily&utm_medium=email&utm_campaign=20210820&utm_content=funding_rounds&utm_term=other>\\nGenomatica \\n<https://www.crunchbase.com/organization/genomatica?utm_source=cb_daily&utm_medium=email&utm_campaign=20210820&utm_content=funding_rounds&utm_term=other>\\nUnknown /Corporate Round \\n<https://www.crunchbase.com/funding_round/genomatica-corporate-round--b373e518?utm_source=cb_daily&utm_medium=email&utm_campaign=20210820&utm_content=funding_rounds&utm_term=other>\\nLululemon \\n<https://www.crunchbase.com/organization/lululemon?utm_source=cb_daily&utm_medium=email&utm_campaign=20210820&utm_content=funding_rounds&utm_term=other>\\nAll Recent Funding Activity \\n<https://www.crunchbase.com/search/funding_rounds?utm_source=cb_daily&utm_medium=email&utm_campaign=20210820&utm_content=funding_rounds&utm_term=more_link>\\n\\n\\nRecent Acquisitions\\n\\n\\n \\n<https://www.crunchbase.com/organization/nn-investment-partners?utm_source=cb_daily&utm_medium=email&utm_campaign=20210820&utm_content=acquisitions&utm_term=featured>\\nNN Investment Partners \\n<https://www.crunchbase.com/organization/nn-investment-partners?utm_source=cb_daily&utm_medium=email&utm_campaign=20210820&utm_content=acquisitions&utm_term=featured>\\n\\nPending acquisition by Goldman Sachs \\n<https://www.crunchbase.com/organization/goldman-sachs?utm_source=cb_daily&utm_medium=email&utm_campaign=20210820&utm_content=acquisitions&utm_term=featured>\\n for1.6B EUR\\n\\nMore Acquisitions\\n\\nCompany Acquired By Amount \\nMedMen \\n<https://www.crunchbase.com/organization/medmen?utm_source=cb_daily&utm_medium=email&utm_campaign=20210820&utm_content=acquisitions&utm_term=other>\\nTilray \\n<https://www.crunchbase.com/organization/tilray?utm_source=cb_daily&utm_medium=email&utm_campaign=20210820&utm_content=acquisitions&utm_term=other>\\n$166M \\nAll Recent Acquisition Activity \\n<https://www.crunchbase.com/search/acquisitions?utm_source=cb_daily&utm_medium=email&utm_campaign=20210820&utm_content=acquisitions&utm_term=more_link>\\n\\n\\nUpcoming Tech Events\\n\\n\\nAccelerator Deadlines\\n\\nDate Accelerator Location \\nAug 23, 2021 Valle Impacta \\n<https://www.crunchbase.com/organization/valle-impacta?utm_source=cb_daily&utm_medium=email&utm_campaign=20210820&utm_content=accelerator_deadlines>\\nCali \\nAug 27, 2021 GSD Venture Studios \\n<https://www.crunchbase.com/organization/gsd-venture-studios?utm_source=cb_daily&utm_medium=email&utm_campaign=20210820&utm_content=accelerator_deadlines>\\nMenlo Park \\nMore Upcoming Deadlines \\n<https://www.crunchbase.com/lists/upcoming-accelerator-deadlines/77aa3ec3-6345-4eb3-a1ac-a5f110f7438c/principal.investors?utm_source=cb_daily&utm_medium=email&utm_campaign=20210820&utm_content=accelerator_deadlines&utm_term=more_link>\\nDon\\xe2\\x80\\x99t see your event? Reach out to us at events@crunchbase.com \\n<mailto:events@crunchbase.com>. \\n\\n <> \\nDiscover innovative companies and the people behind them.\\n\\n <https://www.crunchbase.com/organization/crunchbase/>  \\n<https://www.linkedin.com/company/crunchbase/>  \\n<https://twitter.com/crunchbase/>  <https://www.facebook.com/crunchbase/> \\n564 Market St, San Francisco, CA 94104\\n \\xc2\\xa9 2021 Crunchbase Inc. All rights reserved. Privacy Policy \\n<https://about.crunchbase.com/docs/privacy-policy/> | Terms of Service \\n<https://about.crunchbase.com/docs/terms-of-service/>\\n\\nUnsubscribe \\n<http://links.email.crunchbase.com/e/encryptedUnsubscribe?_r=071ea1d6efd844c0a60f7d7dc2214a93&_s=c94a0e6d59f24c5283da08b714f845c7&_t=oTjHajF7NURP7wiVPxVaTqVGKXRnvmSyCjuZgCXR31vJ3BoBow97p41ltlJid79invzGEcKs-we7824i7IR5sz_iBP5_fc4TTM2RI6rrBegpxfp7DLV8_hyt2bQwFqi-mzna4QRCblrkYeATLSJcSRNaEizf1ehxRSXXmq7ZzW-YkzyrxotIqmVkSAomd2PO5LYehZIBAaZWTAORHIWTMw%3D%3D>\\n from Crunchbase Daily.'"
      ]
     },
     "execution_count": 15,
     "metadata": {},
     "output_type": "execute_result"
    }
   ],
   "source": [
    "urlsafe_b64decode(cbp0[\"body\"][\"data\"])"
   ]
  },
  {
   "cell_type": "code",
   "execution_count": 16,
   "metadata": {},
   "outputs": [
    {
     "name": "stdout",
     "output_type": "stream",
     "text": [
      "text/html\n",
      "87697\n"
     ]
    }
   ],
   "source": [
    "cbp1 = cb_payload[\"parts\"][1]\n",
    "print(cbp1[\"mimeType\"])\n",
    "print(cbp1[\"body\"][\"size\"])"
   ]
  },
  {
   "cell_type": "code",
   "execution_count": 20,
   "metadata": {},
   "outputs": [],
   "source": [
    "cb_html = urlsafe_b64decode(cbp1[\"body\"][\"data\"]).decode(\"utf-8\")"
   ]
  },
  {
   "cell_type": "code",
   "execution_count": 21,
   "metadata": {},
   "outputs": [],
   "source": [
    "with open(\"crunchbase.html\", \"wt\") as f:\n",
    "    print(cb_html, file=f)"
   ]
  },
  {
   "cell_type": "code",
   "execution_count": null,
   "metadata": {},
   "outputs": [],
   "source": []
  },
  {
   "cell_type": "code",
   "execution_count": null,
   "metadata": {},
   "outputs": [],
   "source": []
  },
  {
   "cell_type": "code",
   "execution_count": null,
   "metadata": {},
   "outputs": [],
   "source": []
  },
  {
   "cell_type": "code",
   "execution_count": null,
   "metadata": {},
   "outputs": [],
   "source": [
    "print(type(message))"
   ]
  },
  {
   "cell_type": "code",
   "execution_count": null,
   "metadata": {},
   "outputs": [],
   "source": [
    "message.keys()"
   ]
  },
  {
   "cell_type": "code",
   "execution_count": null,
   "metadata": {},
   "outputs": [],
   "source": [
    "message[\"payload\"].keys()"
   ]
  },
  {
   "cell_type": "code",
   "execution_count": null,
   "metadata": {},
   "outputs": [],
   "source": [
    "type(message[\"payload\"][\"body\"])"
   ]
  },
  {
   "cell_type": "code",
   "execution_count": null,
   "metadata": {},
   "outputs": [],
   "source": [
    "message[\"payload\"][\"body\"].keys()"
   ]
  },
  {
   "cell_type": "code",
   "execution_count": null,
   "metadata": {},
   "outputs": [],
   "source": [
    "message[\"payload\"][\"body\"]"
   ]
  },
  {
   "cell_type": "code",
   "execution_count": null,
   "metadata": {},
   "outputs": [],
   "source": [
    "type(message[\"payload\"][\"parts\"])"
   ]
  },
  {
   "cell_type": "code",
   "execution_count": null,
   "metadata": {},
   "outputs": [],
   "source": [
    "len(message[\"payload\"][\"parts\"])"
   ]
  },
  {
   "cell_type": "code",
   "execution_count": null,
   "metadata": {},
   "outputs": [],
   "source": [
    "type(message[\"payload\"][\"parts\"][0])"
   ]
  },
  {
   "cell_type": "code",
   "execution_count": null,
   "metadata": {},
   "outputs": [],
   "source": [
    "message[\"payload\"][\"parts\"][0].keys()"
   ]
  },
  {
   "cell_type": "code",
   "execution_count": null,
   "metadata": {},
   "outputs": [],
   "source": [
    "type(message[\"payload\"][\"parts\"][0][\"body\"])"
   ]
  },
  {
   "cell_type": "code",
   "execution_count": null,
   "metadata": {},
   "outputs": [],
   "source": [
    "message[\"payload\"][\"parts\"][0][\"body\"].keys()"
   ]
  },
  {
   "cell_type": "code",
   "execution_count": null,
   "metadata": {},
   "outputs": [],
   "source": [
    "message[\"payload\"][\"parts\"][0][\"body\"][\"data\"]"
   ]
  },
  {
   "cell_type": "code",
   "execution_count": null,
   "metadata": {},
   "outputs": [],
   "source": [
    "b64decode(message[\"payload\"][\"parts\"][0][\"body\"][\"data\"])"
   ]
  },
  {
   "cell_type": "markdown",
   "metadata": {},
   "source": [
    "```\n",
    "message\n",
    "    payload\n",
    "        mimeType\n",
    "        body\n",
    "            size = 0\n",
    "        [parts]\n",
    "            mimeType\n",
    "            body\n",
    "                size\n",
    "                data\n",
    "            \n",
    "```"
   ]
  },
  {
   "cell_type": "code",
   "execution_count": null,
   "metadata": {},
   "outputs": [],
   "source": [
    "payload = message[\"payload\"]"
   ]
  },
  {
   "cell_type": "code",
   "execution_count": null,
   "metadata": {},
   "outputs": [],
   "source": [
    "payload[\"mimeType\"]"
   ]
  },
  {
   "cell_type": "code",
   "execution_count": null,
   "metadata": {},
   "outputs": [],
   "source": [
    "payload[\"body\"][\"size\"]"
   ]
  },
  {
   "cell_type": "code",
   "execution_count": null,
   "metadata": {},
   "outputs": [],
   "source": [
    "payload[\"parts\"][0][\"mimeType\"]"
   ]
  },
  {
   "cell_type": "code",
   "execution_count": null,
   "metadata": {},
   "outputs": [],
   "source": [
    "payload[\"parts\"][1][\"mimeType\"]"
   ]
  },
  {
   "cell_type": "code",
   "execution_count": null,
   "metadata": {},
   "outputs": [],
   "source": [
    "part1 = payload[\"parts\"][1]"
   ]
  },
  {
   "cell_type": "code",
   "execution_count": null,
   "metadata": {},
   "outputs": [],
   "source": [
    "part1[\"body\"][\"size\"]"
   ]
  },
  {
   "cell_type": "code",
   "execution_count": null,
   "metadata": {},
   "outputs": [],
   "source": [
    "html = urlsafe_b64decode(part1[\"body\"][\"data\"])"
   ]
  },
  {
   "cell_type": "code",
   "execution_count": null,
   "metadata": {},
   "outputs": [],
   "source": [
    "part0 = payload[\"parts\"][0]"
   ]
  },
  {
   "cell_type": "code",
   "execution_count": null,
   "metadata": {},
   "outputs": [],
   "source": [
    "txt = urlsafe_b64decode(part0[\"body\"][\"data\"]).decode(\"utf-8\")\n",
    "with open(\"msg.txt\", \"wt\") as f:\n",
    "    print(txt, file=f)"
   ]
  },
  {
   "cell_type": "code",
   "execution_count": null,
   "metadata": {},
   "outputs": [],
   "source": [
    "soup = BeautifulSoup(html, \"html.parser\")"
   ]
  },
  {
   "cell_type": "code",
   "execution_count": null,
   "metadata": {},
   "outputs": [],
   "source": [
    "with open(\"msg.html\", \"wt\") as f:\n",
    "    print(soup.prettify(), file=f)"
   ]
  },
  {
   "cell_type": "code",
   "execution_count": null,
   "metadata": {},
   "outputs": [],
   "source": [
    "atags = soup.find_all(\"a\")\n",
    "links = []\n",
    "for atag in atags:\n",
    "    link = atag[\"href\"]\n",
    "    links.append(link)"
   ]
  },
  {
   "cell_type": "code",
   "execution_count": null,
   "metadata": {},
   "outputs": [],
   "source": [
    "len(links)"
   ]
  },
  {
   "cell_type": "code",
   "execution_count": null,
   "metadata": {},
   "outputs": [],
   "source": [
    "links[0]"
   ]
  },
  {
   "cell_type": "code",
   "execution_count": null,
   "metadata": {},
   "outputs": [],
   "source": [
    "with open(\"links.txt\", \"wt\") as f:\n",
    "    for link in links:\n",
    "        print(link, file=f)"
   ]
  },
  {
   "cell_type": "code",
   "execution_count": null,
   "metadata": {},
   "outputs": [],
   "source": [
    "links = set(links)"
   ]
  },
  {
   "cell_type": "code",
   "execution_count": null,
   "metadata": {},
   "outputs": [],
   "source": [
    "len(links)"
   ]
  },
  {
   "cell_type": "code",
   "execution_count": null,
   "metadata": {},
   "outputs": [],
   "source": []
  }
 ],
 "metadata": {
  "interpreter": {
   "hash": "88c7507da57f82ea15ce109eaf525a0da75acabd93012aaba76a42ddcb2d8b9b"
  },
  "kernelspec": {
   "display_name": "Python 3",
   "language": "python",
   "name": "python3"
  },
  "language_info": {
   "codemirror_mode": {
    "name": "ipython",
    "version": 3
   },
   "file_extension": ".py",
   "mimetype": "text/x-python",
   "name": "python",
   "nbconvert_exporter": "python",
   "pygments_lexer": "ipython3",
   "version": "3.7.11"
  }
 },
 "nbformat": 4,
 "nbformat_minor": 2
}
